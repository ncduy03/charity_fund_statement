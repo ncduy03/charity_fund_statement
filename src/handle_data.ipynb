{
 "cells": [
  {
   "cell_type": "code",
   "execution_count": 7,
   "metadata": {},
   "outputs": [],
   "source": [
    "import csv\n",
    "import pandas as pd\n",
    "import matplotlib.pyplot as plt"
   ]
  },
  {
   "cell_type": "code",
   "execution_count": 8,
   "metadata": {},
   "outputs": [
    {
     "name": "stdout",
     "output_type": "stream",
     "text": [
      "<class 'pandas.core.frame.DataFrame'>\n",
      "RangeIndex: 40171 entries, 0 to 40170\n",
      "Data columns (total 4 columns):\n",
      " #   Column              Non-Null Count  Dtype  \n",
      "---  ------              --------------  -----  \n",
      " 0   date                40171 non-null  object \n",
      " 1   credit              40171 non-null  object \n",
      " 2   transaction_detail  40171 non-null  object \n",
      " 3   transaction_id      40169 non-null  float64\n",
      "dtypes: float64(1), object(3)\n",
      "memory usage: 1.2+ MB\n"
     ]
    }
   ],
   "source": [
    "df_transaction = pd.read_csv('../data/processed_data/transactions.csv')\n",
    "df_transaction.info()"
   ]
  },
  {
   "cell_type": "code",
   "execution_count": 9,
   "metadata": {},
   "outputs": [
    {
     "name": "stdout",
     "output_type": "stream",
     "text": [
      "<class 'pandas.core.frame.DataFrame'>\n",
      "RangeIndex: 40171 entries, 0 to 40170\n",
      "Data columns (total 4 columns):\n",
      " #   Column              Non-Null Count  Dtype  \n",
      "---  ------              --------------  -----  \n",
      " 0   date                40171 non-null  object \n",
      " 1   credit              40171 non-null  float64\n",
      " 2   transaction_detail  40171 non-null  object \n",
      " 3   transaction_id      40169 non-null  float64\n",
      "dtypes: float64(2), object(2)\n",
      "memory usage: 1.2+ MB\n"
     ]
    }
   ],
   "source": [
    "df_transaction['credit'] = df_transaction['credit'].str.replace('.', '').astype(float)\n",
    "df_transaction.info()"
   ]
  },
  {
   "cell_type": "code",
   "execution_count": 15,
   "metadata": {},
   "outputs": [
    {
     "name": "stdout",
     "output_type": "stream",
     "text": [
      "   Khoảng mệnh giá  Số lượng giao dịch\n",
      "0          [0,10k]                 436\n",
      "1        [10k,20k]                 605\n",
      "2        [20k,50k]                 936\n",
      "3       [50k,100k]                2965\n",
      "4      [100k,500k]               20714\n",
      "5        [500k,1M]                6994\n",
      "6          [1M,5M]                6225\n",
      "7         [5M,10M]                 666\n",
      "8        [10M,50M]                 517\n",
      "9       [50M,100M]                  71\n",
      "10     [100M,500M]                  42\n",
      "11         [>500M]                   0\n"
     ]
    }
   ],
   "source": [
    "# Define bins and labels\n",
    "bins = [0, 10000, 20000, 50000, 100000, 500000, 1000000, 5000000, 10000000, 50000000, 100000000, 500000000, float('inf')]\n",
    "labels = ['[0,10k]', '[10k,20k]', '[20k,50k]', '[50k,100k]', '[100k,500k]', '[500k,1M]', \n",
    "          '[1M,5M]', '[5M,10M]', '[10M,50M]', '[50M,100M]', '[100M,500M]', '[>500M]']\n",
    "\n",
    "# Create a new column 'bin' with the bin labels\n",
    "df_transaction['bin'] = pd.cut(df_transaction['credit'], bins=bins, labels=labels, right=False)\n",
    "\n",
    "# Group by the 'bin' column and count the number of transactions in each bin\n",
    "bin_counts = df_transaction['bin'].value_counts().sort_index()\n",
    "\n",
    "# Create a new DataFrame with the bin labels and counts\n",
    "df_bin_counts = pd.DataFrame({'Khoảng mệnh giá': bin_counts.index, 'Số lượng giao dịch': bin_counts.values})\n",
    "\n",
    "print(df_bin_counts)\n"
   ]
  },
  {
   "cell_type": "code",
   "execution_count": null,
   "metadata": {},
   "outputs": [],
   "source": []
  }
 ],
 "metadata": {
  "kernelspec": {
   "display_name": "Python 3",
   "language": "python",
   "name": "python3"
  },
  "language_info": {
   "codemirror_mode": {
    "name": "ipython",
    "version": 3
   },
   "file_extension": ".py",
   "mimetype": "text/x-python",
   "name": "python",
   "nbconvert_exporter": "python",
   "pygments_lexer": "ipython3",
   "version": "3.11.3"
  }
 },
 "nbformat": 4,
 "nbformat_minor": 2
}
