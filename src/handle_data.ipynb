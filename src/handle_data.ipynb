{
 "cells": [
  {
   "cell_type": "code",
   "execution_count": 1,
   "metadata": {},
   "outputs": [],
   "source": [
    "import csv\n",
    "import pandas as pd\n",
    "import numpy as np\n",
    "import matplotlib.pyplot as plt\n",
    "import seaborn as sns"
   ]
  },
  {
   "cell_type": "code",
   "execution_count": 2,
   "metadata": {},
   "outputs": [
    {
     "name": "stdout",
     "output_type": "stream",
     "text": [
      "<class 'pandas.core.frame.DataFrame'>\n",
      "RangeIndex: 200364 entries, 0 to 200363\n",
      "Data columns (total 4 columns):\n",
      " #   Column              Non-Null Count   Dtype  \n",
      "---  ------              --------------   -----  \n",
      " 0   date                200364 non-null  object \n",
      " 1   credit              200364 non-null  object \n",
      " 2   transaction_detail  200364 non-null  object \n",
      " 3   transaction_id      200364 non-null  float64\n",
      "dtypes: float64(1), object(3)\n",
      "memory usage: 6.1+ MB\n"
     ]
    }
   ],
   "source": [
    "df_transaction = pd.read_csv('../data/processed_data/transactions.csv')\n",
    "df_transaction.info()"
   ]
  },
  {
   "cell_type": "code",
   "execution_count": 3,
   "metadata": {},
   "outputs": [
    {
     "name": "stdout",
     "output_type": "stream",
     "text": [
      "<class 'pandas.core.frame.DataFrame'>\n",
      "RangeIndex: 200364 entries, 0 to 200363\n",
      "Data columns (total 4 columns):\n",
      " #   Column              Non-Null Count   Dtype  \n",
      "---  ------              --------------   -----  \n",
      " 0   date                200364 non-null  object \n",
      " 1   credit              200364 non-null  float64\n",
      " 2   transaction_detail  200364 non-null  object \n",
      " 3   transaction_id      200364 non-null  float64\n",
      "dtypes: float64(2), object(2)\n",
      "memory usage: 6.1+ MB\n"
     ]
    }
   ],
   "source": [
    "df_transaction['credit'] = df_transaction['credit'].str.replace('.', '').astype(float)\n",
    "df_transaction.info()"
   ]
  },
  {
   "cell_type": "code",
   "execution_count": 4,
   "metadata": {},
   "outputs": [
    {
     "data": {
      "text/html": [
       "<div>\n",
       "<style scoped>\n",
       "    .dataframe tbody tr th:only-of-type {\n",
       "        vertical-align: middle;\n",
       "    }\n",
       "\n",
       "    .dataframe tbody tr th {\n",
       "        vertical-align: top;\n",
       "    }\n",
       "\n",
       "    .dataframe thead th {\n",
       "        text-align: right;\n",
       "    }\n",
       "</style>\n",
       "<table border=\"1\" class=\"dataframe\">\n",
       "  <thead>\n",
       "    <tr style=\"text-align: right;\">\n",
       "      <th></th>\n",
       "      <th>date</th>\n",
       "      <th>credit</th>\n",
       "      <th>transaction_detail</th>\n",
       "      <th>transaction_id</th>\n",
       "    </tr>\n",
       "  </thead>\n",
       "  <tbody>\n",
       "    <tr>\n",
       "      <th>0</th>\n",
       "      <td>01/09/2024</td>\n",
       "      <td>50000.0</td>\n",
       "      <td>292976.010924.013647.xin cam on</td>\n",
       "      <td>5213.45946</td>\n",
       "    </tr>\n",
       "    <tr>\n",
       "      <th>1</th>\n",
       "      <td>01/09/2024</td>\n",
       "      <td>20000.0</td>\n",
       "      <td>VCB.CTDK.31/03/2024.ADIDA PHAT. CT tu 04810007...</td>\n",
       "      <td>5090.85797</td>\n",
       "    </tr>\n",
       "    <tr>\n",
       "      <th>2</th>\n",
       "      <td>01/09/2024</td>\n",
       "      <td>29000.0</td>\n",
       "      <td>MBVCB.6916176124.CAO VIET TUAN chuyen tien.CT ...</td>\n",
       "      <td>5241.83107</td>\n",
       "    </tr>\n",
       "    <tr>\n",
       "      <th>3</th>\n",
       "      <td>01/09/2024</td>\n",
       "      <td>3000.0</td>\n",
       "      <td>272986.010924.101858.DO DUC LOI chuyen tien</td>\n",
       "      <td>5218.87149</td>\n",
       "    </tr>\n",
       "    <tr>\n",
       "      <th>4</th>\n",
       "      <td>01/09/2024</td>\n",
       "      <td>3000.0</td>\n",
       "      <td>020097040509011046122024JDC5013867.96713 .1046...</td>\n",
       "      <td>5388.96713</td>\n",
       "    </tr>\n",
       "  </tbody>\n",
       "</table>\n",
       "</div>"
      ],
      "text/plain": [
       "         date   credit                                 transaction_detail  \\\n",
       "0  01/09/2024  50000.0                    292976.010924.013647.xin cam on   \n",
       "1  01/09/2024  20000.0  VCB.CTDK.31/03/2024.ADIDA PHAT. CT tu 04810007...   \n",
       "2  01/09/2024  29000.0  MBVCB.6916176124.CAO VIET TUAN chuyen tien.CT ...   \n",
       "3  01/09/2024   3000.0        272986.010924.101858.DO DUC LOI chuyen tien   \n",
       "4  01/09/2024   3000.0  020097040509011046122024JDC5013867.96713 .1046...   \n",
       "\n",
       "   transaction_id  \n",
       "0      5213.45946  \n",
       "1      5090.85797  \n",
       "2      5241.83107  \n",
       "3      5218.87149  \n",
       "4      5388.96713  "
      ]
     },
     "execution_count": 4,
     "metadata": {},
     "output_type": "execute_result"
    }
   ],
   "source": [
    "df_transaction.head(5)"
   ]
  },
  {
   "cell_type": "code",
   "execution_count": 5,
   "metadata": {},
   "outputs": [],
   "source": [
    "df_transaction[df_transaction['credit'] > 10000000.0].to_csv('../data/output/high_value_transactions.csv', index=False)"
   ]
  },
  {
   "cell_type": "code",
   "execution_count": 6,
   "metadata": {},
   "outputs": [
    {
     "name": "stdout",
     "output_type": "stream",
     "text": [
      "200000.0\n"
     ]
    }
   ],
   "source": [
    "credit_median = df_transaction['credit'].median()\n",
    "print(credit_median)"
   ]
  },
  {
   "cell_type": "code",
   "execution_count": 7,
   "metadata": {},
   "outputs": [
    {
     "data": {
      "text/html": [
       "<div>\n",
       "<style scoped>\n",
       "    .dataframe tbody tr th:only-of-type {\n",
       "        vertical-align: middle;\n",
       "    }\n",
       "\n",
       "    .dataframe tbody tr th {\n",
       "        vertical-align: top;\n",
       "    }\n",
       "\n",
       "    .dataframe thead th {\n",
       "        text-align: right;\n",
       "    }\n",
       "</style>\n",
       "<table border=\"1\" class=\"dataframe\">\n",
       "  <thead>\n",
       "    <tr style=\"text-align: right;\">\n",
       "      <th></th>\n",
       "      <th>date</th>\n",
       "      <th>total_transaction</th>\n",
       "      <th>total_credit</th>\n",
       "    </tr>\n",
       "  </thead>\n",
       "  <tbody>\n",
       "    <tr>\n",
       "      <th>0</th>\n",
       "      <td>01/09/2024</td>\n",
       "      <td>14</td>\n",
       "      <td>149,000</td>\n",
       "    </tr>\n",
       "    <tr>\n",
       "      <th>1</th>\n",
       "      <td>02/09/2024</td>\n",
       "      <td>5</td>\n",
       "      <td>572,000</td>\n",
       "    </tr>\n",
       "    <tr>\n",
       "      <th>2</th>\n",
       "      <td>03/09/2024</td>\n",
       "      <td>9</td>\n",
       "      <td>1,111,000</td>\n",
       "    </tr>\n",
       "    <tr>\n",
       "      <th>3</th>\n",
       "      <td>04/09/2024</td>\n",
       "      <td>42</td>\n",
       "      <td>7,681,000</td>\n",
       "    </tr>\n",
       "    <tr>\n",
       "      <th>4</th>\n",
       "      <td>05/09/2024</td>\n",
       "      <td>32</td>\n",
       "      <td>1,201,888</td>\n",
       "    </tr>\n",
       "    <tr>\n",
       "      <th>5</th>\n",
       "      <td>06/09/2024</td>\n",
       "      <td>34</td>\n",
       "      <td>1,706,000</td>\n",
       "    </tr>\n",
       "    <tr>\n",
       "      <th>6</th>\n",
       "      <td>07/09/2024</td>\n",
       "      <td>59</td>\n",
       "      <td>6,613,000</td>\n",
       "    </tr>\n",
       "    <tr>\n",
       "      <th>7</th>\n",
       "      <td>08/09/2024</td>\n",
       "      <td>503</td>\n",
       "      <td>885,410,201</td>\n",
       "    </tr>\n",
       "    <tr>\n",
       "      <th>8</th>\n",
       "      <td>09/09/2024</td>\n",
       "      <td>6279</td>\n",
       "      <td>7,868,744,495</td>\n",
       "    </tr>\n",
       "    <tr>\n",
       "      <th>9</th>\n",
       "      <td>10/09/2024</td>\n",
       "      <td>193387</td>\n",
       "      <td>126,308,988,811</td>\n",
       "    </tr>\n",
       "  </tbody>\n",
       "</table>\n",
       "</div>"
      ],
      "text/plain": [
       "         date  total_transaction     total_credit\n",
       "0  01/09/2024                 14          149,000\n",
       "1  02/09/2024                  5          572,000\n",
       "2  03/09/2024                  9        1,111,000\n",
       "3  04/09/2024                 42        7,681,000\n",
       "4  05/09/2024                 32        1,201,888\n",
       "5  06/09/2024                 34        1,706,000\n",
       "6  07/09/2024                 59        6,613,000\n",
       "7  08/09/2024                503      885,410,201\n",
       "8  09/09/2024               6279    7,868,744,495\n",
       "9  10/09/2024             193387  126,308,988,811"
      ]
     },
     "execution_count": 7,
     "metadata": {},
     "output_type": "execute_result"
    }
   ],
   "source": [
    "df_credit_per_day = df_transaction.groupby('date').agg(\n",
    "    total_transaction = ('transaction_id', 'count'),\n",
    "    total_credit = ('credit', 'sum')\n",
    ").reset_index()\n",
    "\n",
    "df_credit_per_day['total_credit'] = df_credit_per_day['total_credit'].apply(lambda x: f'{x:,.0f}')\n",
    "\n",
    "df_credit_per_day"
   ]
  },
  {
   "cell_type": "code",
   "execution_count": 8,
   "metadata": {},
   "outputs": [
    {
     "data": {
      "text/html": [
       "<div>\n",
       "<style scoped>\n",
       "    .dataframe tbody tr th:only-of-type {\n",
       "        vertical-align: middle;\n",
       "    }\n",
       "\n",
       "    .dataframe tbody tr th {\n",
       "        vertical-align: top;\n",
       "    }\n",
       "\n",
       "    .dataframe thead th {\n",
       "        text-align: right;\n",
       "    }\n",
       "</style>\n",
       "<table border=\"1\" class=\"dataframe\">\n",
       "  <thead>\n",
       "    <tr style=\"text-align: right;\">\n",
       "      <th></th>\n",
       "      <th>date</th>\n",
       "      <th>credit</th>\n",
       "      <th>transaction_detail</th>\n",
       "      <th>transaction_id</th>\n",
       "    </tr>\n",
       "  </thead>\n",
       "  <tbody>\n",
       "    <tr>\n",
       "      <th>59457</th>\n",
       "      <td>10/09/2024</td>\n",
       "      <td>1.000000e+09</td>\n",
       "      <td>SHGD:10004067.DD:240910.BO:VAN PHONG HOC VIEN ...</td>\n",
       "      <td>5009.34878</td>\n",
       "    </tr>\n",
       "    <tr>\n",
       "      <th>81314</th>\n",
       "      <td>10/09/2024</td>\n",
       "      <td>5.000000e+08</td>\n",
       "      <td>SHGD:10008948.DD:240910.BO:CTY TNHH OLALA MEDI...</td>\n",
       "      <td>5009.80195</td>\n",
       "    </tr>\n",
       "    <tr>\n",
       "      <th>138206</th>\n",
       "      <td>10/09/2024</td>\n",
       "      <td>4.000000e+08</td>\n",
       "      <td>MBVCB.6997056113.Hoa Minzy cung FC xin duoc un...</td>\n",
       "      <td>5078.51136</td>\n",
       "    </tr>\n",
       "    <tr>\n",
       "      <th>2555</th>\n",
       "      <td>09/09/2024</td>\n",
       "      <td>3.000000e+08</td>\n",
       "      <td>020097042209091712522024VHQZ187912.6995 8.1712...</td>\n",
       "      <td>5390.69958</td>\n",
       "    </tr>\n",
       "    <tr>\n",
       "      <th>23248</th>\n",
       "      <td>10/09/2024</td>\n",
       "      <td>3.000000e+08</td>\n",
       "      <td>TAP THE LAI DO KDL TRANG AN UNG HO DONG BAO</td>\n",
       "      <td>1.45000</td>\n",
       "    </tr>\n",
       "    <tr>\n",
       "      <th>74906</th>\n",
       "      <td>10/09/2024</td>\n",
       "      <td>3.000000e+08</td>\n",
       "      <td>020097042209101456212024T5UZ508421.1576 6.1456...</td>\n",
       "      <td>5390.15766</td>\n",
       "    </tr>\n",
       "    <tr>\n",
       "      <th>104225</th>\n",
       "      <td>10/09/2024</td>\n",
       "      <td>3.000000e+08</td>\n",
       "      <td>398155.100924.174901.DUY CHINH ung ho Dong Bao...</td>\n",
       "      <td>5216.20838</td>\n",
       "    </tr>\n",
       "    <tr>\n",
       "      <th>16630</th>\n",
       "      <td>10/09/2024</td>\n",
       "      <td>2.500000e+08</td>\n",
       "      <td>939995.100924.075253.NGUYEN QUANG HAI UNG HO K...</td>\n",
       "      <td>5209.24565</td>\n",
       "    </tr>\n",
       "    <tr>\n",
       "      <th>97229</th>\n",
       "      <td>10/09/2024</td>\n",
       "      <td>2.000000e+08</td>\n",
       "      <td>810836.100924.170304.SOFIA UNG HO CAC TINH MIE...</td>\n",
       "      <td>5218.18910</td>\n",
       "    </tr>\n",
       "    <tr>\n",
       "      <th>78673</th>\n",
       "      <td>10/09/2024</td>\n",
       "      <td>2.000000e+08</td>\n",
       "      <td>SHGD:10006328.DD:240910.BO:CTY CP DAU TU VA XD...</td>\n",
       "      <td>5009.72124</td>\n",
       "    </tr>\n",
       "  </tbody>\n",
       "</table>\n",
       "</div>"
      ],
      "text/plain": [
       "              date        credit  \\\n",
       "59457   10/09/2024  1.000000e+09   \n",
       "81314   10/09/2024  5.000000e+08   \n",
       "138206  10/09/2024  4.000000e+08   \n",
       "2555    09/09/2024  3.000000e+08   \n",
       "23248   10/09/2024  3.000000e+08   \n",
       "74906   10/09/2024  3.000000e+08   \n",
       "104225  10/09/2024  3.000000e+08   \n",
       "16630   10/09/2024  2.500000e+08   \n",
       "97229   10/09/2024  2.000000e+08   \n",
       "78673   10/09/2024  2.000000e+08   \n",
       "\n",
       "                                       transaction_detail  transaction_id  \n",
       "59457   SHGD:10004067.DD:240910.BO:VAN PHONG HOC VIEN ...      5009.34878  \n",
       "81314   SHGD:10008948.DD:240910.BO:CTY TNHH OLALA MEDI...      5009.80195  \n",
       "138206  MBVCB.6997056113.Hoa Minzy cung FC xin duoc un...      5078.51136  \n",
       "2555    020097042209091712522024VHQZ187912.6995 8.1712...      5390.69958  \n",
       "23248         TAP THE LAI DO KDL TRANG AN UNG HO DONG BAO         1.45000  \n",
       "74906   020097042209101456212024T5UZ508421.1576 6.1456...      5390.15766  \n",
       "104225  398155.100924.174901.DUY CHINH ung ho Dong Bao...      5216.20838  \n",
       "16630   939995.100924.075253.NGUYEN QUANG HAI UNG HO K...      5209.24565  \n",
       "97229   810836.100924.170304.SOFIA UNG HO CAC TINH MIE...      5218.18910  \n",
       "78673   SHGD:10006328.DD:240910.BO:CTY CP DAU TU VA XD...      5009.72124  "
      ]
     },
     "execution_count": 8,
     "metadata": {},
     "output_type": "execute_result"
    }
   ],
   "source": [
    "df_transaction.sort_values(by='credit', ascending=False).head(10)"
   ]
  },
  {
   "cell_type": "code",
   "execution_count": 9,
   "metadata": {},
   "outputs": [
    {
     "name": "stdout",
     "output_type": "stream",
     "text": [
      "   Khoảng mệnh giá  Số lượng giao dịch\n",
      "0          [0,10k]                1947\n",
      "1        [10k,20k]                3762\n",
      "2        [20k,50k]                6337\n",
      "3       [50k,100k]               16886\n",
      "4      [100k,500k]              105904\n",
      "5        [500k,1M]               33513\n",
      "6          [1M,5M]               27467\n",
      "7         [5M,10M]                2507\n",
      "8        [10M,50M]                1753\n",
      "9       [50M,100M]                 180\n",
      "10     [100M,500M]                 106\n",
      "11         [>500M]                   2\n"
     ]
    }
   ],
   "source": [
    "# Define bins and labels\n",
    "bins = [0, 10000, 20000, 50000, 100000, 500000, 1000000, 5000000, 10000000, 50000000, 100000000, 500000000, float('inf')]\n",
    "labels = ['[0,10k]', '[10k,20k]', '[20k,50k]', '[50k,100k]', '[100k,500k]', '[500k,1M]', \n",
    "          '[1M,5M]', '[5M,10M]', '[10M,50M]', '[50M,100M]', '[100M,500M]', '[>500M]']\n",
    "\n",
    "# Create a new column 'bin' with the bin labels\n",
    "df_transaction['bin'] = pd.cut(df_transaction['credit'], bins=bins, labels=labels, right=False)\n",
    "\n",
    "# Group by the 'bin' column and count the number of transactions in each bin\n",
    "bin_counts = df_transaction['bin'].value_counts().sort_index()\n",
    "\n",
    "# Create a new DataFrame with the bin labels and counts\n",
    "df_bin_counts = pd.DataFrame({'Khoảng mệnh giá': bin_counts.index, 'Số lượng giao dịch': bin_counts.values})\n",
    "\n",
    "print(df_bin_counts)"
   ]
  },
  {
   "cell_type": "code",
   "execution_count": 10,
   "metadata": {},
   "outputs": [
    {
     "name": "stderr",
     "output_type": "stream",
     "text": [
      "C:\\Users\\Hi\\AppData\\Local\\Temp\\ipykernel_18136\\221912538.py:2: FutureWarning: \n",
      "\n",
      "Passing `palette` without assigning `hue` is deprecated and will be removed in v0.14.0. Assign the `x` variable to `hue` and set `legend=False` for the same effect.\n",
      "\n",
      "  sns.barplot(data=df_bin_counts, x='Khoảng mệnh giá', y='Số lượng giao dịch', palette='viridis')\n"
     ]
    },
    {
     "data": {
      "image/png": "[encoded data removed]",
      "text/plain": [
       "<Figure size 1200x600 with 1 Axes>"
      ]
     },
     "metadata": {},
     "output_type": "display_data"
    }
   ],
   "source": [
    "plt.figure(figsize=(12, 6))\n",
    "sns.barplot(data=df_bin_counts, x='Khoảng mệnh giá', y='Số lượng giao dịch', palette='viridis')\n",
    "\n",
    "# Customize the chart\n",
    "plt.title('Thống kê phân bố quyên góp MTTQ', fontsize=16)\n",
    "plt.xlabel('Số tiền', fontsize=14)\n",
    "plt.ylabel('Số lượng giao dịch', fontsize=14)\n",
    "plt.xticks(rotation=45, ha='right', fontsize=12)\n",
    "plt.grid(axis='y', linestyle='--', alpha=0.7)\n",
    "\n",
    "# Show the chart\n",
    "plt.tight_layout()\n",
    "plt.show()"
   ]
  }
 ],
 "metadata": {
  "kernelspec": {
   "display_name": "Python 3",
   "language": "python",
   "name": "python3"
  },
  "language_info": {
   "codemirror_mode": {
    "name": "ipython",
    "version": 3
   },
   "file_extension": ".py",
   "mimetype": "text/x-python",
   "name": "python",
   "nbconvert_exporter": "python",
   "pygments_lexer": "ipython3",
   "version": "3.11.3"
  }
 },
 "nbformat": 4,
 "nbformat_minor": 2
}
